{
 "cells": [
  {
   "cell_type": "markdown",
   "metadata": {},
   "source": [
    "# QA tests on FiberFlat"
   ]
  },
  {
   "cell_type": "markdown",
   "metadata": {},
   "source": [
    "## Load 'true' model spectrum"
   ]
  },
  {
   "cell_type": "code",
   "execution_count": 20,
   "metadata": {
    "collapsed": false
   },
   "outputs": [],
   "source": [
    "# imports\n",
    "import specter.throughput as spec_thru\n",
    "import specter.psf.spotgrid as SpotGridPSF\n",
    "sys.path.append(os.path.abspath(\"/Users/xavier/DESI/desisim_v0.4.1/desisim/\"))\n",
    "import interpolation as desi_interp\n",
    "import io as desisim_io"
   ]
  },
  {
   "cell_type": "code",
   "execution_count": 3,
   "metadata": {
    "collapsed": false
   },
   "outputs": [
    {
     "name": "stdout",
     "output_type": "stream",
     "text": [
      "Filename: /Users/xavier/DESI/CALIBS/flat-3100K-quartz-iodine.fits\n",
      "No.    Name         Type      Cards   Dimensions   Format\n",
      "0    PRIMARY     PrimaryHDU      11   (67461,)     float64   \n"
     ]
    }
   ],
   "source": [
    "# Read flat\n",
    "infile = '/Users/xavier/DESI/CALIBS/flat-3100K-quartz-iodine.fits'\n",
    "hdu = fits.open(infile)\n",
    "hdu.info()"
   ]
  },
  {
   "cell_type": "code",
   "execution_count": 9,
   "metadata": {
    "collapsed": true
   },
   "outputs": [],
   "source": [
    "flux = hdu[0].data\n",
    "hdr = hdu[0].header\n",
    "# from desisim_io\n",
    "wave = hdr['CRVAL1'] + np.arange(hdr['NAXIS1'])*hdr['CDELT1']\n",
    "if hdr['LOGLAM'] == 1:\n",
    "    wave = 10**wave"
   ]
  },
  {
   "cell_type": "code",
   "execution_count": 10,
   "metadata": {
    "collapsed": true
   },
   "outputs": [],
   "source": [
    "#- resample to 0.2 A grid\n",
    "dw = 0.2\n",
    "ww = np.arange(wave[0], wave[-1]+dw/2, dw)\n",
    "flux = desi_interp.resample_flux(ww, wave, flux)"
   ]
  },
  {
   "cell_type": "code",
   "execution_count": 12,
   "metadata": {
    "collapsed": false
   },
   "outputs": [],
   "source": [
    "xdb.xplot(ww,flux)"
   ]
  },
  {
   "cell_type": "markdown",
   "metadata": {},
   "source": [
    "## Apply thruput"
   ]
  },
  {
   "cell_type": "code",
   "execution_count": 13,
   "metadata": {
    "collapsed": true
   },
   "outputs": [],
   "source": [
    "thru = spec_thru.load_throughput('/Users/xavier/DESI/desimodel/data/throughput/thru-b.fits')"
   ]
  },
  {
   "cell_type": "code",
   "execution_count": 22,
   "metadata": {
    "collapsed": false
   },
   "outputs": [],
   "source": [
    "# Load PSF\n",
    "psf_fil = '/Users/xavier/DESI/desimodel/data/specpsf/psf-b.fits'\n",
    "psf = SpotGridPSF.SpotGridPSF(psf_fil)"
   ]
  },
  {
   "cell_type": "code",
   "execution_count": 40,
   "metadata": {
    "collapsed": true
   },
   "outputs": [],
   "source": [
    "# Generate photons from thruput\n",
    "ii = (psf.wmin <= ww) & (ww <= psf.wmax)\n",
    "phot = thru.photons(ww[ii], flux[ii], units=hdr['BUNIT'], objtype='CALIB')"
   ]
  },
  {
   "cell_type": "code",
   "execution_count": 41,
   "metadata": {
    "collapsed": true
   },
   "outputs": [],
   "source": [
    "# Plot\n",
    "xdb.xplot(ww[ii],phot)"
   ]
  },
  {
   "cell_type": "markdown",
   "metadata": {},
   "source": [
    "## Write to file"
   ]
  },
  {
   "cell_type": "code",
   "execution_count": 35,
   "metadata": {
    "collapsed": false
   },
   "outputs": [],
   "source": [
    "from linetools.spectra.xspectrum1d import XSpectrum1D"
   ]
  },
  {
   "cell_type": "code",
   "execution_count": 36,
   "metadata": {
    "collapsed": true
   },
   "outputs": [],
   "source": [
    "xspec = XSpectrum1D.from_tuple((ww[ii],phot))"
   ]
  },
  {
   "cell_type": "code",
   "execution_count": 37,
   "metadata": {
    "collapsed": false
   },
   "outputs": [
    {
     "name": "stdout",
     "output_type": "stream",
     "text": [
      "Wrote spectrum to /Users/xavier/DESI/CALIBS/b-flat-phot_spec.fits\n"
     ]
    }
   ],
   "source": [
    "xspec.write_to_fits('/Users/xavier/DESI/CALIBS/b-flat-phot_spec.fits')"
   ]
  },
  {
   "cell_type": "code",
   "execution_count": null,
   "metadata": {
    "collapsed": true
   },
   "outputs": [],
   "source": []
  }
 ],
 "metadata": {
  "kernelspec": {
   "display_name": "Python 2",
   "language": "python",
   "name": "python2"
  },
  "language_info": {
   "codemirror_mode": {
    "name": "ipython",
    "version": 2
   },
   "file_extension": ".py",
   "mimetype": "text/x-python",
   "name": "python",
   "nbconvert_exporter": "python",
   "pygments_lexer": "ipython2",
   "version": "2.7.10"
  }
 },
 "nbformat": 4,
 "nbformat_minor": 0
}

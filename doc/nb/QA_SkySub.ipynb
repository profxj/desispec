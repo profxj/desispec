{
 "cells": [
  {
   "cell_type": "markdown",
   "metadata": {},
   "source": [
    "# QA tests on SkySub (v1.0 by JXP)"
   ]
  },
  {
   "cell_type": "markdown",
   "metadata": {},
   "source": [
    "## Load 'true' model sky spectrum"
   ]
  },
  {
   "cell_type": "code",
   "execution_count": 1,
   "metadata": {
    "collapsed": false
   },
   "outputs": [],
   "source": [
    "# imports\n",
    "import specter.throughput as spec_thru\n",
    "import specter.psf.spotgrid as SpotGridPSF\n",
    "sys.path.append(os.path.abspath(\"/Users/xavier/DESI/desisim_v0.4.1/desisim/\"))\n",
    "import interpolation as desi_interp\n",
    "import io as desisim_io"
   ]
  },
  {
   "cell_type": "code",
   "execution_count": 50,
   "metadata": {
    "collapsed": false
   },
   "outputs": [
    {
     "name": "stdout",
     "output_type": "stream",
     "text": [
      "Filename: /Users/xavier/DESI/TST/20150211/simspec-00000002.fits\n",
      "No.    Name         Type      Cards   Dimensions   Format\n",
      "0    FLUX        PrimaryHDU      13   (31901, 1000)   float32   \n",
      "1    SKYFLUX     ImageHDU        13   (31901,)     float32   \n",
      "2    METADATA    BinTableHDU     18   1000R x 4C   [10A, E, J, E]   \n",
      "3    PHOT_B      ImageHDU        12   (12326, 1000)   float32   \n",
      "4    SKYPHOT_B   ImageHDU        11   (12326,)     float32   \n",
      "5    PHOT_R      ImageHDU        12   (11205, 1000)   float32   \n",
      "6    SKYPHOT_R   ImageHDU        11   (11205,)     float32   \n",
      "7    PHOT_Z      ImageHDU        12   (12765, 1000)   float32   \n",
      "8    SKYPHOT_Z   ImageHDU        11   (12765,)     float32   \n"
     ]
    }
   ],
   "source": [
    "# Get truth\n",
    "simsp2_fil = '/Users/xavier/DESI/TST/20150211/simspec-00000002.fits'\n",
    "simsp2_hdu = fits.open(simsp2_fil)\n",
    "simsp2_hdu.info()"
   ]
  },
  {
   "cell_type": "code",
   "execution_count": 54,
   "metadata": {
    "collapsed": false
   },
   "outputs": [
    {
     "data": {
      "text/plain": [
       "9"
      ]
     },
     "execution_count": 54,
     "metadata": {},
     "output_type": "execute_result"
    }
   ],
   "source": [
    "len(simsp2_hdu)"
   ]
  },
  {
   "cell_type": "code",
   "execution_count": 5,
   "metadata": {
    "collapsed": false
   },
   "outputs": [
    {
     "data": {
      "text/plain": [
       "(3533.0, 0.1999999999998181)"
      ]
     },
     "execution_count": 5,
     "metadata": {},
     "output_type": "execute_result"
    }
   ],
   "source": [
    "# Wavelength\n",
    "hdr = simsp2_hdu[0].header\n",
    "hdr['CRVAL1'], hdr['CDELT1']"
   ]
  },
  {
   "cell_type": "code",
   "execution_count": 8,
   "metadata": {
    "collapsed": false
   },
   "outputs": [
    {
     "data": {
      "text/plain": [
       "(3533.0, 0.1999999999998181, 12326)"
      ]
     },
     "execution_count": 8,
     "metadata": {},
     "output_type": "execute_result"
    }
   ],
   "source": [
    "hdr_skyB = simsp2_hdu[4].header\n",
    "hdr_skyB['CRVAL1'], hdr_skyB['CDELT1'], hdr_skyB['NAXIS1']"
   ]
  },
  {
   "cell_type": "code",
   "execution_count": 9,
   "metadata": {
    "collapsed": true
   },
   "outputs": [],
   "source": [
    "# Generate\n",
    "waveB = hdr_skyB['CRVAL1'] + (hdr_skyB['CDELT1'])*np.arange(hdr_skyB['NAXIS1'])\n",
    "skyB = simsp2_hdu[4].data"
   ]
  },
  {
   "cell_type": "code",
   "execution_count": 11,
   "metadata": {
    "collapsed": false
   },
   "outputs": [],
   "source": [
    "#Plot\n",
    "plt.clf()\n",
    "plt.plot(waveB,skyB)\n",
    "plt.show()"
   ]
  },
  {
   "cell_type": "markdown",
   "metadata": {
    "collapsed": true
   },
   "source": [
    "## Now fiddle about in desispec.sky"
   ]
  },
  {
   "cell_type": "code",
   "execution_count": 16,
   "metadata": {
    "collapsed": true
   },
   "outputs": [],
   "source": [
    "#imports\n",
    "from desispec.io import frame as desi_io_frame\n",
    "from desispec import sky as dspec_sky\n",
    "from desispec.io import fibermap as desi_io_fmap"
   ]
  },
  {
   "cell_type": "markdown",
   "metadata": {},
   "source": [
    "### Added make_qa method (not part of Class yet)"
   ]
  },
  {
   "cell_type": "code",
   "execution_count": 17,
   "metadata": {
    "collapsed": true
   },
   "outputs": [],
   "source": [
    "path = '/Users/xavier/DESI/TST/20150211/'"
   ]
  },
  {
   "cell_type": "code",
   "execution_count": 18,
   "metadata": {
    "collapsed": false
   },
   "outputs": [],
   "source": [
    "# Load\n",
    "obs_frame = desi_io_frame.read_frame(path+'frame-b0-00000002.fits')\n",
    "fiber_map = desi_io_fmap.read_fibermap(path+'fibermap-00000002.fits')"
   ]
  },
  {
   "cell_type": "code",
   "execution_count": 40,
   "metadata": {
    "collapsed": false
   },
   "outputs": [
    {
     "name": "stdout",
     "output_type": "stream",
     "text": [
      "INFO:sky.py:41:compute_sky: starting\n"
     ]
    },
    {
     "name": "stderr",
     "output_type": "stream",
     "text": [
      "INFO:DESI:starting\n"
     ]
    },
    {
     "name": "stdout",
     "output_type": "stream",
     "text": [
      "INFO:sky.py:71:compute_sky: iter 0 fiber 0\n"
     ]
    },
    {
     "name": "stderr",
     "output_type": "stream",
     "text": [
      "INFO:DESI:iter 0 fiber 0\n"
     ]
    },
    {
     "name": "stdout",
     "output_type": "stream",
     "text": [
      "INFO:sky.py:71:compute_sky: iter 0 fiber 10\n"
     ]
    },
    {
     "name": "stderr",
     "output_type": "stream",
     "text": [
      "INFO:DESI:iter 0 fiber 10\n"
     ]
    },
    {
     "name": "stdout",
     "output_type": "stream",
     "text": [
      "INFO:sky.py:71:compute_sky: iter 0 fiber 20\n"
     ]
    },
    {
     "name": "stderr",
     "output_type": "stream",
     "text": [
      "INFO:DESI:iter 0 fiber 20\n"
     ]
    },
    {
     "name": "stdout",
     "output_type": "stream",
     "text": [
      "INFO:sky.py:71:compute_sky: iter 0 fiber 30\n"
     ]
    },
    {
     "name": "stderr",
     "output_type": "stream",
     "text": [
      "INFO:DESI:iter 0 fiber 30\n"
     ]
    },
    {
     "name": "stdout",
     "output_type": "stream",
     "text": [
      "INFO:sky.py:71:compute_sky: iter 0 fiber 40\n"
     ]
    },
    {
     "name": "stderr",
     "output_type": "stream",
     "text": [
      "INFO:DESI:iter 0 fiber 40\n"
     ]
    },
    {
     "name": "stdout",
     "output_type": "stream",
     "text": [
      "INFO:sky.py:82:compute_sky: iter 0 solving\n"
     ]
    },
    {
     "name": "stderr",
     "output_type": "stream",
     "text": [
      "INFO:DESI:iter 0 solving\n"
     ]
    },
    {
     "name": "stdout",
     "output_type": "stream",
     "text": [
      "INFO:sky.py:86:compute_sky: iter 0 compute chi2\n"
     ]
    },
    {
     "name": "stderr",
     "output_type": "stream",
     "text": [
      "INFO:DESI:iter 0 compute chi2\n"
     ]
    },
    {
     "name": "stdout",
     "output_type": "stream",
     "text": [
      "INFO:sky.py:93:compute_sky: rejecting\n"
     ]
    },
    {
     "name": "stderr",
     "output_type": "stream",
     "text": [
      "INFO:DESI:rejecting\n"
     ]
    },
    {
     "name": "stdout",
     "output_type": "stream",
     "text": [
      "INFO:sky.py:124:compute_sky: iter #0 chi2=192053.341999 ndf=173096 chi2pdf=1.109519 nout=37\n"
     ]
    },
    {
     "name": "stderr",
     "output_type": "stream",
     "text": [
      "INFO:DESI:iter #0 chi2=192053.341999 ndf=173096 chi2pdf=1.109519 nout=37\n"
     ]
    },
    {
     "name": "stdout",
     "output_type": "stream",
     "text": [
      "INFO:sky.py:71:compute_sky: iter 1 fiber 0\n"
     ]
    },
    {
     "name": "stderr",
     "output_type": "stream",
     "text": [
      "INFO:DESI:iter 1 fiber 0\n"
     ]
    },
    {
     "name": "stdout",
     "output_type": "stream",
     "text": [
      "INFO:sky.py:71:compute_sky: iter 1 fiber 10\n"
     ]
    },
    {
     "name": "stderr",
     "output_type": "stream",
     "text": [
      "INFO:DESI:iter 1 fiber 10\n"
     ]
    },
    {
     "name": "stdout",
     "output_type": "stream",
     "text": [
      "INFO:sky.py:71:compute_sky: iter 1 fiber 20\n"
     ]
    },
    {
     "name": "stderr",
     "output_type": "stream",
     "text": [
      "INFO:DESI:iter 1 fiber 20\n"
     ]
    },
    {
     "name": "stdout",
     "output_type": "stream",
     "text": [
      "INFO:sky.py:71:compute_sky: iter 1 fiber 30\n"
     ]
    },
    {
     "name": "stderr",
     "output_type": "stream",
     "text": [
      "INFO:DESI:iter 1 fiber 30\n"
     ]
    },
    {
     "name": "stdout",
     "output_type": "stream",
     "text": [
      "INFO:sky.py:71:compute_sky: iter 1 fiber 40\n"
     ]
    },
    {
     "name": "stderr",
     "output_type": "stream",
     "text": [
      "INFO:DESI:iter 1 fiber 40\n"
     ]
    },
    {
     "name": "stdout",
     "output_type": "stream",
     "text": [
      "INFO:sky.py:82:compute_sky: iter 1 solving\n"
     ]
    },
    {
     "name": "stderr",
     "output_type": "stream",
     "text": [
      "INFO:DESI:iter 1 solving\n"
     ]
    },
    {
     "name": "stdout",
     "output_type": "stream",
     "text": [
      "INFO:sky.py:86:compute_sky: iter 1 compute chi2\n"
     ]
    },
    {
     "name": "stderr",
     "output_type": "stream",
     "text": [
      "INFO:DESI:iter 1 compute chi2\n"
     ]
    },
    {
     "name": "stdout",
     "output_type": "stream",
     "text": [
      "INFO:sky.py:93:compute_sky: rejecting\n"
     ]
    },
    {
     "name": "stderr",
     "output_type": "stream",
     "text": [
      "INFO:DESI:rejecting\n"
     ]
    },
    {
     "name": "stdout",
     "output_type": "stream",
     "text": [
      "INFO:sky.py:124:compute_sky: iter #1 chi2=191327.730089 ndf=173059 chi2pdf=1.105564 nout=1\n"
     ]
    },
    {
     "name": "stderr",
     "output_type": "stream",
     "text": [
      "INFO:DESI:iter #1 chi2=191327.730089 ndf=173059 chi2pdf=1.105564 nout=1\n"
     ]
    },
    {
     "name": "stdout",
     "output_type": "stream",
     "text": [
      "INFO:sky.py:71:compute_sky: iter 2 fiber 0\n"
     ]
    },
    {
     "name": "stderr",
     "output_type": "stream",
     "text": [
      "INFO:DESI:iter 2 fiber 0\n"
     ]
    },
    {
     "name": "stdout",
     "output_type": "stream",
     "text": [
      "INFO:sky.py:71:compute_sky: iter 2 fiber 10\n"
     ]
    },
    {
     "name": "stderr",
     "output_type": "stream",
     "text": [
      "INFO:DESI:iter 2 fiber 10\n"
     ]
    },
    {
     "name": "stdout",
     "output_type": "stream",
     "text": [
      "INFO:sky.py:71:compute_sky: iter 2 fiber 20\n"
     ]
    },
    {
     "name": "stderr",
     "output_type": "stream",
     "text": [
      "INFO:DESI:iter 2 fiber 20\n"
     ]
    },
    {
     "name": "stdout",
     "output_type": "stream",
     "text": [
      "INFO:sky.py:71:compute_sky: iter 2 fiber 30\n"
     ]
    },
    {
     "name": "stderr",
     "output_type": "stream",
     "text": [
      "INFO:DESI:iter 2 fiber 30\n"
     ]
    },
    {
     "name": "stdout",
     "output_type": "stream",
     "text": [
      "INFO:sky.py:71:compute_sky: iter 2 fiber 40\n"
     ]
    },
    {
     "name": "stderr",
     "output_type": "stream",
     "text": [
      "INFO:DESI:iter 2 fiber 40\n"
     ]
    },
    {
     "name": "stdout",
     "output_type": "stream",
     "text": [
      "INFO:sky.py:82:compute_sky: iter 2 solving\n"
     ]
    },
    {
     "name": "stderr",
     "output_type": "stream",
     "text": [
      "INFO:DESI:iter 2 solving\n"
     ]
    },
    {
     "name": "stdout",
     "output_type": "stream",
     "text": [
      "INFO:sky.py:86:compute_sky: iter 2 compute chi2\n"
     ]
    },
    {
     "name": "stderr",
     "output_type": "stream",
     "text": [
      "INFO:DESI:iter 2 compute chi2\n"
     ]
    },
    {
     "name": "stdout",
     "output_type": "stream",
     "text": [
      "INFO:sky.py:93:compute_sky: rejecting\n"
     ]
    },
    {
     "name": "stderr",
     "output_type": "stream",
     "text": [
      "INFO:DESI:rejecting\n"
     ]
    },
    {
     "name": "stdout",
     "output_type": "stream",
     "text": [
      "INFO:sky.py:124:compute_sky: iter #2 chi2=191310.369669 ndf=173058 chi2pdf=1.105470 nout=0\n"
     ]
    },
    {
     "name": "stderr",
     "output_type": "stream",
     "text": [
      "INFO:DESI:iter #2 chi2=191310.369669 ndf=173058 chi2pdf=1.105470 nout=0\n"
     ]
    },
    {
     "name": "stdout",
     "output_type": "stream",
     "text": [
      "INFO:sky.py:129:compute_sky: nout tot=38\n"
     ]
    },
    {
     "name": "stderr",
     "output_type": "stream",
     "text": [
      "INFO:DESI:nout tot=38\n"
     ]
    }
   ],
   "source": [
    "# Process + checking\n",
    "reload(dspec_sky)\n",
    "# Not flat-fielding first..\n",
    "skymodel, skyflux, skyvar = dspec_sky.compute_sky(obs_frame,fiber_map)"
   ]
  },
  {
   "cell_type": "code",
   "execution_count": 31,
   "metadata": {
    "collapsed": true
   },
   "outputs": [],
   "source": [
    "# Resample truth onto extracted spectrum\n",
    "dw = 0.6\n",
    "ww = np.arange(3579., 5938.8, dw)\n",
    "true_flux = desi_interp.resample_flux(ww, waveB, skyB)"
   ]
  },
  {
   "cell_type": "code",
   "execution_count": 32,
   "metadata": {
    "collapsed": true
   },
   "outputs": [],
   "source": [
    "#Scale\n",
    "scl = np.median(skyflux/true_flux)"
   ]
  },
  {
   "cell_type": "code",
   "execution_count": 33,
   "metadata": {
    "collapsed": true
   },
   "outputs": [],
   "source": [
    "# Quick comparison\n",
    "xdb.xplot(skymodel.wave,skyflux,xtwo=ww,ytwo=true_flux*scl)"
   ]
  },
  {
   "cell_type": "code",
   "execution_count": 47,
   "metadata": {
    "collapsed": false
   },
   "outputs": [
    {
     "name": "stdout",
     "output_type": "stream",
     "text": [
      "scale = 4.73442\n"
     ]
    }
   ],
   "source": [
    "# QA on Mean model\n",
    "reload(dspec_sky)\n",
    "dspec_sky.make_model_qa(skymodel.wave, skyflux, skyvar, waveB, skyB)"
   ]
  },
  {
   "cell_type": "code",
   "execution_count": 74,
   "metadata": {
    "collapsed": false
   },
   "outputs": [],
   "source": [
    "#xdb.xplot(fiber_flat.wave, fiber_flat.meanspec, np.sqrt(ms_var))"
   ]
  },
  {
   "cell_type": "code",
   "execution_count": 41,
   "metadata": {
    "collapsed": false
   },
   "outputs": [
    {
     "data": {
      "text/plain": [
       "0.21123785382340515"
      ]
     },
     "execution_count": 41,
     "metadata": {},
     "output_type": "execute_result"
    }
   ],
   "source": [
    "1./4.734"
   ]
  },
  {
   "cell_type": "code",
   "execution_count": null,
   "metadata": {
    "collapsed": true
   },
   "outputs": [],
   "source": []
  }
 ],
 "metadata": {
  "kernelspec": {
   "display_name": "Python 2",
   "language": "python",
   "name": "python2"
  },
  "language_info": {
   "codemirror_mode": {
    "name": "ipython",
    "version": 2
   },
   "file_extension": ".py",
   "mimetype": "text/x-python",
   "name": "python",
   "nbconvert_exporter": "python",
   "pygments_lexer": "ipython2",
   "version": "2.7.10"
  }
 },
 "nbformat": 4,
 "nbformat_minor": 0
}

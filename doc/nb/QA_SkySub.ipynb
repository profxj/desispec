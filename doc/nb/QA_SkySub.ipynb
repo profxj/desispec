{
 "cells": [
  {
   "cell_type": "markdown",
   "metadata": {},
   "source": [
    "# QA tests on SkySub (v1.1 by JXP)"
   ]
  },
  {
   "cell_type": "markdown",
   "metadata": {},
   "source": [
    "## Load 'true' model sky spectrum"
   ]
  },
  {
   "cell_type": "code",
   "execution_count": 15,
   "metadata": {
    "collapsed": false
   },
   "outputs": [],
   "source": [
    "# imports\n",
    "import specter.throughput as spec_thru\n",
    "import specter.psf.spotgrid as SpotGridPSF\n",
    "#sys.path.append(os.path.abspath(\"/Users/xavier/DESI/desisim/py/\"))\n",
    "#sys.path.append(os.path.abspath(\"/Users/xavier/DESI/desimodel/py/\"))\n",
    "#import interpolation as desi_interp\n",
    "from desisim import io as desisim_io"
   ]
  },
  {
   "cell_type": "code",
   "execution_count": null,
   "metadata": {
    "collapsed": false
   },
   "outputs": [],
   "source": [
    "# Get truth\n",
    "simsp2_fil = '/Users/xavier/DESI/TST/20150211/simspec-00000002.fits'\n",
    "simsp2_hdu = fits.open(simsp2_fil)\n",
    "simsp2_hdu.info()"
   ]
  },
  {
   "cell_type": "code",
   "execution_count": null,
   "metadata": {
    "collapsed": false
   },
   "outputs": [],
   "source": [
    "len(simsp2_hdu)"
   ]
  },
  {
   "cell_type": "code",
   "execution_count": null,
   "metadata": {
    "collapsed": false
   },
   "outputs": [],
   "source": [
    "# Wavelength\n",
    "hdr = simsp2_hdu[0].header\n",
    "hdr['CRVAL1'], hdr['CDELT1']"
   ]
  },
  {
   "cell_type": "code",
   "execution_count": null,
   "metadata": {
    "collapsed": false
   },
   "outputs": [],
   "source": [
    "hdr_skyB = simsp2_hdu[4].header\n",
    "hdr_skyB['CRVAL1'], hdr_skyB['CDELT1'], hdr_skyB['NAXIS1']"
   ]
  },
  {
   "cell_type": "code",
   "execution_count": null,
   "metadata": {
    "collapsed": true
   },
   "outputs": [],
   "source": [
    "# Generate\n",
    "waveB = hdr_skyB['CRVAL1'] + (hdr_skyB['CDELT1'])*np.arange(hdr_skyB['NAXIS1'])\n",
    "skyB = simsp2_hdu[4].data"
   ]
  },
  {
   "cell_type": "code",
   "execution_count": null,
   "metadata": {
    "collapsed": false
   },
   "outputs": [],
   "source": [
    "#Plot\n",
    "plt.clf()\n",
    "plt.plot(waveB,skyB)\n",
    "plt.show()"
   ]
  },
  {
   "cell_type": "markdown",
   "metadata": {
    "collapsed": true
   },
   "source": [
    "## Now fiddle about in desispec.sky"
   ]
  },
  {
   "cell_type": "code",
   "execution_count": 19,
   "metadata": {
    "collapsed": false
   },
   "outputs": [],
   "source": [
    "#imports\n",
    "from desispec.io import frame as desi_io_frame\n",
    "from desispec import sky as dspec_sky\n",
    "from desispec.io import fibermap as desi_io_fmap\n",
    "import desispec"
   ]
  },
  {
   "cell_type": "markdown",
   "metadata": {},
   "source": [
    "### Added make_qa method (not part of Class yet)"
   ]
  },
  {
   "cell_type": "code",
   "execution_count": 3,
   "metadata": {
    "collapsed": true
   },
   "outputs": [],
   "source": [
    "path = '/Users/xavier/DESI/TST/'#20150211/'"
   ]
  },
  {
   "cell_type": "code",
   "execution_count": 22,
   "metadata": {
    "collapsed": false
   },
   "outputs": [],
   "source": [
    "# Load\n",
    "obs_frame = desi_io_frame.read_frame(path+'dogwood/exposures/20150211/00000002/frame-b0-00000002.fits')\n",
    "fiber_map = desi_io_fmap.read_fibermap(path+'data/20150211/fibermap-00000002.fits')\n",
    "fiberflat = desispec.io.read_fiberflat(path+'dogwood/calib2d/20150211/fiberflat-b0-00000001.fits')"
   ]
  },
  {
   "cell_type": "code",
   "execution_count": 23,
   "metadata": {
    "collapsed": false
   },
   "outputs": [
    {
     "name": "stdout",
     "output_type": "stream",
     "text": [
      "INFO:fiberflat.py:231:apply_fiberflat: starting\n"
     ]
    },
    {
     "name": "stderr",
     "output_type": "stream",
     "text": [
      "INFO:DESI:starting\n"
     ]
    },
    {
     "name": "stdout",
     "output_type": "stream",
     "text": [
      "INFO:fiberflat.py:253:apply_fiberflat: done\n"
     ]
    },
    {
     "name": "stderr",
     "output_type": "stream",
     "text": [
      "INFO:DESI:done\n"
     ]
    }
   ],
   "source": [
    "# Flat field\n",
    "desispec.fiberflat.apply_fiberflat(obs_frame, fiberflat)"
   ]
  },
  {
   "cell_type": "code",
   "execution_count": 29,
   "metadata": {
    "collapsed": false,
    "scrolled": true
   },
   "outputs": [
    {
     "name": "stdout",
     "output_type": "stream",
     "text": [
      "INFO:sky.py:41:compute_sky: starting\n"
     ]
    },
    {
     "name": "stderr",
     "output_type": "stream",
     "text": [
      "INFO:DESI:starting\n"
     ]
    },
    {
     "name": "stdout",
     "output_type": "stream",
     "text": [
      "INFO:sky.py:74:compute_sky: iter 0 fiber 0\n"
     ]
    },
    {
     "name": "stderr",
     "output_type": "stream",
     "text": [
      "INFO:DESI:iter 0 fiber 0\n"
     ]
    },
    {
     "name": "stdout",
     "output_type": "stream",
     "text": [
      "INFO:sky.py:74:compute_sky: iter 0 fiber 10\n"
     ]
    },
    {
     "name": "stderr",
     "output_type": "stream",
     "text": [
      "INFO:DESI:iter 0 fiber 10\n"
     ]
    },
    {
     "name": "stdout",
     "output_type": "stream",
     "text": [
      "INFO:sky.py:74:compute_sky: iter 0 fiber 20\n"
     ]
    },
    {
     "name": "stderr",
     "output_type": "stream",
     "text": [
      "INFO:DESI:iter 0 fiber 20\n"
     ]
    },
    {
     "name": "stdout",
     "output_type": "stream",
     "text": [
      "INFO:sky.py:74:compute_sky: iter 0 fiber 30\n"
     ]
    },
    {
     "name": "stderr",
     "output_type": "stream",
     "text": [
      "INFO:DESI:iter 0 fiber 30\n"
     ]
    },
    {
     "name": "stdout",
     "output_type": "stream",
     "text": [
      "INFO:sky.py:74:compute_sky: iter 0 fiber 40\n"
     ]
    },
    {
     "name": "stderr",
     "output_type": "stream",
     "text": [
      "INFO:DESI:iter 0 fiber 40\n"
     ]
    },
    {
     "name": "stdout",
     "output_type": "stream",
     "text": [
      "INFO:sky.py:85:compute_sky: iter 0 solving\n"
     ]
    },
    {
     "name": "stderr",
     "output_type": "stream",
     "text": [
      "INFO:DESI:iter 0 solving\n"
     ]
    },
    {
     "name": "stdout",
     "output_type": "stream",
     "text": [
      "INFO:sky.py:89:compute_sky: iter 0 compute chi2\n"
     ]
    },
    {
     "name": "stderr",
     "output_type": "stream",
     "text": [
      "INFO:DESI:iter 0 compute chi2\n"
     ]
    },
    {
     "name": "stdout",
     "output_type": "stream",
     "text": [
      "INFO:sky.py:96:compute_sky: rejecting\n"
     ]
    },
    {
     "name": "stderr",
     "output_type": "stream",
     "text": [
      "INFO:DESI:rejecting\n"
     ]
    },
    {
     "name": "stdout",
     "output_type": "stream",
     "text": [
      "INFO:sky.py:127:compute_sky: iter #0 chi2=192121.841344 ndf=173096 chi2pdf=1.109915 nout=40\n"
     ]
    },
    {
     "name": "stderr",
     "output_type": "stream",
     "text": [
      "INFO:DESI:iter #0 chi2=192121.841344 ndf=173096 chi2pdf=1.109915 nout=40\n"
     ]
    },
    {
     "name": "stdout",
     "output_type": "stream",
     "text": [
      "INFO:sky.py:74:compute_sky: iter 1 fiber 0\n"
     ]
    },
    {
     "name": "stderr",
     "output_type": "stream",
     "text": [
      "INFO:DESI:iter 1 fiber 0\n"
     ]
    },
    {
     "name": "stdout",
     "output_type": "stream",
     "text": [
      "INFO:sky.py:74:compute_sky: iter 1 fiber 10\n"
     ]
    },
    {
     "name": "stderr",
     "output_type": "stream",
     "text": [
      "INFO:DESI:iter 1 fiber 10\n"
     ]
    },
    {
     "name": "stdout",
     "output_type": "stream",
     "text": [
      "INFO:sky.py:74:compute_sky: iter 1 fiber 20\n"
     ]
    },
    {
     "name": "stderr",
     "output_type": "stream",
     "text": [
      "INFO:DESI:iter 1 fiber 20\n"
     ]
    },
    {
     "name": "stdout",
     "output_type": "stream",
     "text": [
      "INFO:sky.py:74:compute_sky: iter 1 fiber 30\n"
     ]
    },
    {
     "name": "stderr",
     "output_type": "stream",
     "text": [
      "INFO:DESI:iter 1 fiber 30\n"
     ]
    },
    {
     "name": "stdout",
     "output_type": "stream",
     "text": [
      "INFO:sky.py:74:compute_sky: iter 1 fiber 40\n"
     ]
    },
    {
     "name": "stderr",
     "output_type": "stream",
     "text": [
      "INFO:DESI:iter 1 fiber 40\n"
     ]
    },
    {
     "name": "stdout",
     "output_type": "stream",
     "text": [
      "INFO:sky.py:85:compute_sky: iter 1 solving\n"
     ]
    },
    {
     "name": "stderr",
     "output_type": "stream",
     "text": [
      "INFO:DESI:iter 1 solving\n"
     ]
    },
    {
     "name": "stdout",
     "output_type": "stream",
     "text": [
      "INFO:sky.py:89:compute_sky: iter 1 compute chi2\n"
     ]
    },
    {
     "name": "stderr",
     "output_type": "stream",
     "text": [
      "INFO:DESI:iter 1 compute chi2\n"
     ]
    },
    {
     "name": "stdout",
     "output_type": "stream",
     "text": [
      "INFO:sky.py:96:compute_sky: rejecting\n"
     ]
    },
    {
     "name": "stderr",
     "output_type": "stream",
     "text": [
      "INFO:DESI:rejecting\n"
     ]
    },
    {
     "name": "stdout",
     "output_type": "stream",
     "text": [
      "INFO:sky.py:127:compute_sky: iter #1 chi2=191348.264470 ndf=173056 chi2pdf=1.105701 nout=1\n"
     ]
    },
    {
     "name": "stderr",
     "output_type": "stream",
     "text": [
      "INFO:DESI:iter #1 chi2=191348.264470 ndf=173056 chi2pdf=1.105701 nout=1\n"
     ]
    },
    {
     "name": "stdout",
     "output_type": "stream",
     "text": [
      "INFO:sky.py:74:compute_sky: iter 2 fiber 0\n"
     ]
    },
    {
     "name": "stderr",
     "output_type": "stream",
     "text": [
      "INFO:DESI:iter 2 fiber 0\n"
     ]
    },
    {
     "name": "stdout",
     "output_type": "stream",
     "text": [
      "INFO:sky.py:74:compute_sky: iter 2 fiber 10\n"
     ]
    },
    {
     "name": "stderr",
     "output_type": "stream",
     "text": [
      "INFO:DESI:iter 2 fiber 10\n"
     ]
    },
    {
     "name": "stdout",
     "output_type": "stream",
     "text": [
      "INFO:sky.py:74:compute_sky: iter 2 fiber 20\n"
     ]
    },
    {
     "name": "stderr",
     "output_type": "stream",
     "text": [
      "INFO:DESI:iter 2 fiber 20\n"
     ]
    },
    {
     "name": "stdout",
     "output_type": "stream",
     "text": [
      "INFO:sky.py:74:compute_sky: iter 2 fiber 30\n"
     ]
    },
    {
     "name": "stderr",
     "output_type": "stream",
     "text": [
      "INFO:DESI:iter 2 fiber 30\n"
     ]
    },
    {
     "name": "stdout",
     "output_type": "stream",
     "text": [
      "INFO:sky.py:74:compute_sky: iter 2 fiber 40\n"
     ]
    },
    {
     "name": "stderr",
     "output_type": "stream",
     "text": [
      "INFO:DESI:iter 2 fiber 40\n"
     ]
    },
    {
     "name": "stdout",
     "output_type": "stream",
     "text": [
      "INFO:sky.py:85:compute_sky: iter 2 solving\n"
     ]
    },
    {
     "name": "stderr",
     "output_type": "stream",
     "text": [
      "INFO:DESI:iter 2 solving\n"
     ]
    },
    {
     "name": "stdout",
     "output_type": "stream",
     "text": [
      "INFO:sky.py:89:compute_sky: iter 2 compute chi2\n"
     ]
    },
    {
     "name": "stderr",
     "output_type": "stream",
     "text": [
      "INFO:DESI:iter 2 compute chi2\n"
     ]
    },
    {
     "name": "stdout",
     "output_type": "stream",
     "text": [
      "INFO:sky.py:96:compute_sky: rejecting\n"
     ]
    },
    {
     "name": "stderr",
     "output_type": "stream",
     "text": [
      "INFO:DESI:rejecting\n"
     ]
    },
    {
     "name": "stdout",
     "output_type": "stream",
     "text": [
      "INFO:sky.py:127:compute_sky: iter #2 chi2=191330.956082 ndf=173055 chi2pdf=1.105608 nout=0\n"
     ]
    },
    {
     "name": "stderr",
     "output_type": "stream",
     "text": [
      "INFO:DESI:iter #2 chi2=191330.956082 ndf=173055 chi2pdf=1.105608 nout=0\n"
     ]
    },
    {
     "name": "stdout",
     "output_type": "stream",
     "text": [
      "INFO:sky.py:132:compute_sky: nout tot=41\n"
     ]
    },
    {
     "name": "stderr",
     "output_type": "stream",
     "text": [
      "INFO:DESI:nout tot=41\n"
     ]
    },
    {
     "name": "stdout",
     "output_type": "stream",
     "text": [
      "INFO:sky.py:190:compute_sky: Median residual for sky fibers = 0.748682\n"
     ]
    },
    {
     "name": "stderr",
     "output_type": "stream",
     "text": [
      "INFO:DESI:Median residual for sky fibers = 0.748682\n"
     ]
    },
    {
     "name": "stdout",
     "output_type": "stream",
     "text": [
      "Wrote QA SkyRes file: tmp_skyqa.pdf\n"
     ]
    }
   ],
   "source": [
    "# Process + checking\n",
    "reload(dspec_sky)\n",
    "# Not flat-fielding first..\n",
    "skymodel = dspec_sky.compute_sky(obs_frame,fiber_map)"
   ]
  },
  {
   "cell_type": "code",
   "execution_count": null,
   "metadata": {
    "collapsed": true
   },
   "outputs": [],
   "source": [
    "# Resample truth onto extracted spectrum\n",
    "dw = 0.6\n",
    "ww = np.arange(3579., 5938.8, dw)\n",
    "true_flux = desi_interp.resample_flux(ww, waveB, skyB)"
   ]
  },
  {
   "cell_type": "code",
   "execution_count": null,
   "metadata": {
    "collapsed": true
   },
   "outputs": [],
   "source": [
    "#Scale\n",
    "scl = np.median(skyflux/true_flux)"
   ]
  },
  {
   "cell_type": "code",
   "execution_count": null,
   "metadata": {
    "collapsed": true
   },
   "outputs": [],
   "source": [
    "# Quick comparison\n",
    "xdb.xplot(skymodel.wave,skyflux,xtwo=ww,ytwo=true_flux*scl)"
   ]
  },
  {
   "cell_type": "markdown",
   "metadata": {},
   "source": [
    "## QA on Mean model"
   ]
  },
  {
   "cell_type": "code",
   "execution_count": null,
   "metadata": {
    "collapsed": false
   },
   "outputs": [],
   "source": [
    "reload(dspec_sky)\n",
    "dspec_sky.make_model_qa(skymodel.wave, skyflux, skyvar, waveB, skyB)"
   ]
  },
  {
   "cell_type": "code",
   "execution_count": null,
   "metadata": {
    "collapsed": false
   },
   "outputs": [],
   "source": [
    "#xdb.xplot(fiber_flat.wave, fiber_flat.meanspec, np.sqrt(ms_var))"
   ]
  },
  {
   "cell_type": "markdown",
   "metadata": {
    "collapsed": true
   },
   "source": [
    "## QA on Residuals"
   ]
  },
  {
   "cell_type": "code",
   "execution_count": 50,
   "metadata": {
    "collapsed": false
   },
   "outputs": [
    {
     "name": "stdout",
     "output_type": "stream",
     "text": [
      "Wrote QA SkyRes file: tmp_frame_skyres.pdf\n"
     ]
    }
   ],
   "source": [
    "# Process + checking\n",
    "reload(dspec_sky)\n",
    "# Not flat-fielding first..\n",
    "dspec_sky.qa_fig_skyres(obs_frame,fiber_map,skymodel)"
   ]
  },
  {
   "cell_type": "code",
   "execution_count": null,
   "metadata": {
    "collapsed": true
   },
   "outputs": [],
   "source": []
  },
  {
   "cell_type": "code",
   "execution_count": null,
   "metadata": {
    "collapsed": true
   },
   "outputs": [],
   "source": []
  }
 ],
 "metadata": {
  "kernelspec": {
   "display_name": "Python 2",
   "language": "python",
   "name": "python2"
  },
  "language_info": {
   "codemirror_mode": {
    "name": "ipython",
    "version": 2
   },
   "file_extension": ".py",
   "mimetype": "text/x-python",
   "name": "python",
   "nbconvert_exporter": "python",
   "pygments_lexer": "ipython2",
   "version": "2.7.10"
  }
 },
 "nbformat": 4,
 "nbformat_minor": 0
}
